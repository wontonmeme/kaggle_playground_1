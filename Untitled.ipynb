{
 "cells": [
  {
   "cell_type": "code",
   "execution_count": 1,
   "id": "07f558cb-ca2f-4a80-8137-8642e0e955b1",
   "metadata": {},
   "outputs": [],
   "source": [
    "import pandas as pd\n",
    "import numpy as np\n",
    "import matplotlib.pyplot as plt\n",
    "import math\n",
    "import seaborn as sns\n",
    "from sklearn.model_selection import train_test_split\n",
    "from sklearn.linear_model import LinearRegression\n",
    "from sklearn.metrics import mean_squared_error, r2_score\n",
    "from sklearn.preprocessing import LabelEncoder\n",
    "from catboost import CatBoostClassifier, Pool\n",
    "\n",
    "df = pd.read_csv(\"train.csv\")"
   ]
  },
  {
   "cell_type": "code",
   "execution_count": 3,
   "id": "70634282-9d9b-48a5-b653-2b71eb479cc1",
   "metadata": {},
   "outputs": [
    {
     "data": {
      "text/html": [
       "<div>\n",
       "<style scoped>\n",
       "    .dataframe tbody tr th:only-of-type {\n",
       "        vertical-align: middle;\n",
       "    }\n",
       "\n",
       "    .dataframe tbody tr th {\n",
       "        vertical-align: top;\n",
       "    }\n",
       "\n",
       "    .dataframe thead th {\n",
       "        text-align: right;\n",
       "    }\n",
       "</style>\n",
       "<table border=\"1\" class=\"dataframe\">\n",
       "  <thead>\n",
       "    <tr style=\"text-align: right;\">\n",
       "      <th></th>\n",
       "      <th>id</th>\n",
       "      <th>Gender</th>\n",
       "      <th>Age</th>\n",
       "      <th>Driving_License</th>\n",
       "      <th>Region_Code</th>\n",
       "      <th>Previously_Insured</th>\n",
       "      <th>Vehicle_Age</th>\n",
       "      <th>Vehicle_Damage</th>\n",
       "      <th>Annual_Premium</th>\n",
       "      <th>Policy_Sales_Channel</th>\n",
       "      <th>Vintage</th>\n",
       "      <th>Response</th>\n",
       "    </tr>\n",
       "  </thead>\n",
       "  <tbody>\n",
       "    <tr>\n",
       "      <th>0</th>\n",
       "      <td>0</td>\n",
       "      <td>Male</td>\n",
       "      <td>21</td>\n",
       "      <td>1</td>\n",
       "      <td>35.0</td>\n",
       "      <td>0</td>\n",
       "      <td>1-2 Year</td>\n",
       "      <td>Yes</td>\n",
       "      <td>65101.0</td>\n",
       "      <td>124.0</td>\n",
       "      <td>187</td>\n",
       "      <td>0</td>\n",
       "    </tr>\n",
       "    <tr>\n",
       "      <th>1</th>\n",
       "      <td>1</td>\n",
       "      <td>Male</td>\n",
       "      <td>43</td>\n",
       "      <td>1</td>\n",
       "      <td>28.0</td>\n",
       "      <td>0</td>\n",
       "      <td>&gt; 2 Years</td>\n",
       "      <td>Yes</td>\n",
       "      <td>58911.0</td>\n",
       "      <td>26.0</td>\n",
       "      <td>288</td>\n",
       "      <td>1</td>\n",
       "    </tr>\n",
       "    <tr>\n",
       "      <th>2</th>\n",
       "      <td>2</td>\n",
       "      <td>Female</td>\n",
       "      <td>25</td>\n",
       "      <td>1</td>\n",
       "      <td>14.0</td>\n",
       "      <td>1</td>\n",
       "      <td>&lt; 1 Year</td>\n",
       "      <td>No</td>\n",
       "      <td>38043.0</td>\n",
       "      <td>152.0</td>\n",
       "      <td>254</td>\n",
       "      <td>0</td>\n",
       "    </tr>\n",
       "    <tr>\n",
       "      <th>3</th>\n",
       "      <td>3</td>\n",
       "      <td>Female</td>\n",
       "      <td>35</td>\n",
       "      <td>1</td>\n",
       "      <td>1.0</td>\n",
       "      <td>0</td>\n",
       "      <td>1-2 Year</td>\n",
       "      <td>Yes</td>\n",
       "      <td>2630.0</td>\n",
       "      <td>156.0</td>\n",
       "      <td>76</td>\n",
       "      <td>0</td>\n",
       "    </tr>\n",
       "    <tr>\n",
       "      <th>4</th>\n",
       "      <td>4</td>\n",
       "      <td>Female</td>\n",
       "      <td>36</td>\n",
       "      <td>1</td>\n",
       "      <td>15.0</td>\n",
       "      <td>1</td>\n",
       "      <td>1-2 Year</td>\n",
       "      <td>No</td>\n",
       "      <td>31951.0</td>\n",
       "      <td>152.0</td>\n",
       "      <td>294</td>\n",
       "      <td>0</td>\n",
       "    </tr>\n",
       "  </tbody>\n",
       "</table>\n",
       "</div>"
      ],
      "text/plain": [
       "   id  Gender  Age  Driving_License  Region_Code  Previously_Insured  \\\n",
       "0   0    Male   21                1         35.0                   0   \n",
       "1   1    Male   43                1         28.0                   0   \n",
       "2   2  Female   25                1         14.0                   1   \n",
       "3   3  Female   35                1          1.0                   0   \n",
       "4   4  Female   36                1         15.0                   1   \n",
       "\n",
       "  Vehicle_Age Vehicle_Damage  Annual_Premium  Policy_Sales_Channel  Vintage  \\\n",
       "0    1-2 Year            Yes         65101.0                 124.0      187   \n",
       "1   > 2 Years            Yes         58911.0                  26.0      288   \n",
       "2    < 1 Year             No         38043.0                 152.0      254   \n",
       "3    1-2 Year            Yes          2630.0                 156.0       76   \n",
       "4    1-2 Year             No         31951.0                 152.0      294   \n",
       "\n",
       "   Response  \n",
       "0         0  \n",
       "1         1  \n",
       "2         0  \n",
       "3         0  \n",
       "4         0  "
      ]
     },
     "execution_count": 3,
     "metadata": {},
     "output_type": "execute_result"
    }
   ],
   "source": [
    "df.head()"
   ]
  },
  {
   "cell_type": "code",
   "execution_count": 23,
   "id": "adab4e1e-a353-444b-9ea2-710ff04610d0",
   "metadata": {
    "scrolled": true
   },
   "outputs": [
    {
     "data": {
      "image/png": "[encoded data removed]",
      "text/plain": [
       "<Figure size 640x480 with 1 Axes>"
      ]
     },
     "metadata": {},
     "output_type": "display_data"
    }
   ],
   "source": [
    "plt.scatter(df[\"MonsoonIntensity\"], np.log(df[\"FloodProbability\"]))\n",
    "plt.show()"
   ]
  },
  {
   "cell_type": "code",
   "execution_count": 6,
   "id": "88b02c4f-bb63-4fb0-9c7b-37f7aabbe754",
   "metadata": {},
   "outputs": [
    {
     "name": "stdout",
     "output_type": "stream",
     "text": [
      "0\n"
     ]
    }
   ],
   "source": [
    "missing_values = df.isnull().sum()\n",
    "print(df.duplicated().sum())\n",
    "#print(missing_values)"
   ]
  },
  {
   "cell_type": "code",
   "execution_count": null,
   "id": "663c494c-8db1-4817-a410-c3647a0f0a26",
   "metadata": {},
   "outputs": [],
   "source": [
    "sns.set(style=\"whitegrid\")\n",
    "sns.pairplot(df)"
   ]
  },
  {
   "cell_type": "code",
   "execution_count": null,
   "id": "635869f1-7d3c-4653-a0df-676d5aa9bb2e",
   "metadata": {},
   "outputs": [],
   "source": [
    "variables = [variable for variable in df.columns.tolist() if variable not in [\"id\",\"Response\"]]\n",
    "\n",
    "for i in variables:\n",
    "    print(df[i].nunique())\n",
    "    plt.scatter(df[i], df[\"Target\"])\n",
    "    plt.xlabel(i)\n",
    "    plt.show()"
   ]
  },
  {
   "cell_type": "code",
   "execution_count": 72,
   "id": "87cabcc2-e72a-419f-ab62-995bec073790",
   "metadata": {
    "scrolled": true
   },
   "outputs": [
    {
     "name": "stderr",
     "output_type": "stream",
     "text": [
      "C:\\ProgramData\\anaconda3\\envs\\dataset_pytorch_based\\Lib\\site-packages\\seaborn\\_oldcore.py:1119: FutureWarning: use_inf_as_na option is deprecated and will be removed in a future version. Convert inf values to NaN before operating instead.\n",
      "  with pd.option_context('mode.use_inf_as_na', True):\n"
     ]
    },
    {
     "data": {
      "image/png": "[encoded data removed]",
      "text/plain": [
       "<Figure size 640x480 with 1 Axes>"
      ]
     },
     "metadata": {},
     "output_type": "display_data"
    },
    {
     "name": "stderr",
     "output_type": "stream",
     "text": [
      "C:\\ProgramData\\anaconda3\\envs\\dataset_pytorch_based\\Lib\\site-packages\\seaborn\\_oldcore.py:1119: FutureWarning: use_inf_as_na option is deprecated and will be removed in a future version. Convert inf values to NaN before operating instead.\n",
      "  with pd.option_context('mode.use_inf_as_na', True):\n"
     ]
    },
    {
     "data": {
      "image/png": "[encoded data removed]",
      "text/plain": [
       "<Figure size 640x480 with 1 Axes>"
      ]
     },
     "metadata": {},
     "output_type": "display_data"
    },
    {
     "name": "stderr",
     "output_type": "stream",
     "text": [
      "C:\\ProgramData\\anaconda3\\envs\\dataset_pytorch_based\\Lib\\site-packages\\seaborn\\_oldcore.py:1119: FutureWarning: use_inf_as_na option is deprecated and will be removed in a future version. Convert inf values to NaN before operating instead.\n",
      "  with pd.option_context('mode.use_inf_as_na', True):\n"
     ]
    },
    {
     "data": {
      "image/png": "[encoded data removed]",
      "text/plain": [
       "<Figure size 640x480 with 1 Axes>"
      ]
     },
     "metadata": {},
     "output_type": "display_data"
    },
    {
     "name": "stderr",
     "output_type": "stream",
     "text": [
      "C:\\ProgramData\\anaconda3\\envs\\dataset_pytorch_based\\Lib\\site-packages\\seaborn\\_oldcore.py:1119: FutureWarning: use_inf_as_na option is deprecated and will be removed in a future version. Convert inf values to NaN before operating instead.\n",
      "  with pd.option_context('mode.use_inf_as_na', True):\n"
     ]
    },
    {
     "data": {
      "image/png": "[encoded data removed]",
      "text/plain": [
       "<Figure size 640x480 with 1 Axes>"
      ]
     },
     "metadata": {},
     "output_type": "display_data"
    },
    {
     "data": {
      "text/plain": [
       "True"
      ]
     },
     "execution_count": 72,
     "metadata": {},
     "output_type": "execute_result"
    }
   ],
   "source": [
    "variables = [variable for variable in df.columns.tolist() if variable not in [\"id\",\"Response\"]]\n",
    "#df.info()\n",
    "#df.dtypes.name\n",
    "for i in variables:\n",
    "    if not (df[i].dtype.name == \"int64\"): \n",
    "        continue\n",
    "    sns.histplot(df[i], bins = 10)\n",
    "    #plt.scatter(df[i], df[\"Target\"])\n",
    "    plt.xlabel(i)\n",
    "    plt.ylabel(\"frequency\")\n",
    "    plt.show()\n",
    "df[\"Age\"].dtype.name == \"int64\"\n"
   ]
  },
  {
   "cell_type": "code",
   "execution_count": 91,
   "id": "e4f62e57-1cbe-431d-9256-dbe38c04540f",
   "metadata": {},
   "outputs": [
    {
     "data": {
      "text/html": [
       "<div>\n",
       "<style scoped>\n",
       "    .dataframe tbody tr th:only-of-type {\n",
       "        vertical-align: middle;\n",
       "    }\n",
       "\n",
       "    .dataframe tbody tr th {\n",
       "        vertical-align: top;\n",
       "    }\n",
       "\n",
       "    .dataframe thead th {\n",
       "        text-align: right;\n",
       "    }\n",
       "</style>\n",
       "<table border=\"1\" class=\"dataframe\">\n",
       "  <thead>\n",
       "    <tr style=\"text-align: right;\">\n",
       "      <th></th>\n",
       "      <th>id</th>\n",
       "      <th>Gender</th>\n",
       "      <th>Age</th>\n",
       "      <th>Driving_License</th>\n",
       "      <th>Region_Code</th>\n",
       "      <th>Previously_Insured</th>\n",
       "      <th>Vehicle_Age</th>\n",
       "      <th>Vehicle_Damage</th>\n",
       "      <th>Annual_Premium</th>\n",
       "      <th>Policy_Sales_Channel</th>\n",
       "      <th>Vintage</th>\n",
       "      <th>Response</th>\n",
       "    </tr>\n",
       "  </thead>\n",
       "  <tbody>\n",
       "    <tr>\n",
       "      <th>0</th>\n",
       "      <td>0</td>\n",
       "      <td>Male</td>\n",
       "      <td>21</td>\n",
       "      <td>1</td>\n",
       "      <td>35.0</td>\n",
       "      <td>0</td>\n",
       "      <td>1-2 Year</td>\n",
       "      <td>Yes</td>\n",
       "      <td>65101.0</td>\n",
       "      <td>124.0</td>\n",
       "      <td>187</td>\n",
       "      <td>0</td>\n",
       "    </tr>\n",
       "    <tr>\n",
       "      <th>1</th>\n",
       "      <td>1</td>\n",
       "      <td>Male</td>\n",
       "      <td>43</td>\n",
       "      <td>1</td>\n",
       "      <td>28.0</td>\n",
       "      <td>0</td>\n",
       "      <td>&gt; 2 Years</td>\n",
       "      <td>Yes</td>\n",
       "      <td>58911.0</td>\n",
       "      <td>26.0</td>\n",
       "      <td>288</td>\n",
       "      <td>1</td>\n",
       "    </tr>\n",
       "    <tr>\n",
       "      <th>2</th>\n",
       "      <td>2</td>\n",
       "      <td>Female</td>\n",
       "      <td>25</td>\n",
       "      <td>1</td>\n",
       "      <td>14.0</td>\n",
       "      <td>1</td>\n",
       "      <td>&lt; 1 Year</td>\n",
       "      <td>No</td>\n",
       "      <td>38043.0</td>\n",
       "      <td>152.0</td>\n",
       "      <td>254</td>\n",
       "      <td>0</td>\n",
       "    </tr>\n",
       "    <tr>\n",
       "      <th>3</th>\n",
       "      <td>3</td>\n",
       "      <td>Female</td>\n",
       "      <td>35</td>\n",
       "      <td>1</td>\n",
       "      <td>1.0</td>\n",
       "      <td>0</td>\n",
       "      <td>1-2 Year</td>\n",
       "      <td>Yes</td>\n",
       "      <td>2630.0</td>\n",
       "      <td>156.0</td>\n",
       "      <td>76</td>\n",
       "      <td>0</td>\n",
       "    </tr>\n",
       "    <tr>\n",
       "      <th>4</th>\n",
       "      <td>4</td>\n",
       "      <td>Female</td>\n",
       "      <td>36</td>\n",
       "      <td>1</td>\n",
       "      <td>15.0</td>\n",
       "      <td>1</td>\n",
       "      <td>1-2 Year</td>\n",
       "      <td>No</td>\n",
       "      <td>31951.0</td>\n",
       "      <td>152.0</td>\n",
       "      <td>294</td>\n",
       "      <td>0</td>\n",
       "    </tr>\n",
       "  </tbody>\n",
       "</table>\n",
       "</div>"
      ],
      "text/plain": [
       "   id  Gender  Age  Driving_License  Region_Code  Previously_Insured  \\\n",
       "0   0    Male   21                1         35.0                   0   \n",
       "1   1    Male   43                1         28.0                   0   \n",
       "2   2  Female   25                1         14.0                   1   \n",
       "3   3  Female   35                1          1.0                   0   \n",
       "4   4  Female   36                1         15.0                   1   \n",
       "\n",
       "  Vehicle_Age Vehicle_Damage  Annual_Premium  Policy_Sales_Channel  Vintage  \\\n",
       "0    1-2 Year            Yes         65101.0                 124.0      187   \n",
       "1   > 2 Years            Yes         58911.0                  26.0      288   \n",
       "2    < 1 Year             No         38043.0                 152.0      254   \n",
       "3    1-2 Year            Yes          2630.0                 156.0       76   \n",
       "4    1-2 Year             No         31951.0                 152.0      294   \n",
       "\n",
       "   Response  \n",
       "0         0  \n",
       "1         1  \n",
       "2         0  \n",
       "3         0  \n",
       "4         0  "
      ]
     },
     "execution_count": 91,
     "metadata": {},
     "output_type": "execute_result"
    }
   ],
   "source": [
    "df.head()"
   ]
  },
  {
   "cell_type": "code",
   "execution_count": 4,
   "id": "b8b6b54b-9eac-4979-b175-b6aa2e0bc4da",
   "metadata": {
    "scrolled": true
   },
   "outputs": [
    {
     "name": "stdout",
     "output_type": "stream",
     "text": [
      "[98018, 96377, 91892, 90945, 85183, 82529, 80137, 80054, 80046, 79657, 77219, 76953, 75436, 75037, 73986, 72727, 72362, 71417, 70479, 69528, 68887, 68272, 67911, 67784, 67347, 66969, 66932, 66919, 65592, 65174, 64209, 63869, 63771, 63455, 62701, 59593, 58870, 58287, 57898, 57821, 56839, 56406, 56101, 55944, 55696, 55472, 55301, 55033, 54155, 54074, 54061, 53903, 53761, 53630, 53220, 53149, 52957, 52781, 52706, 52099, 51623, 51491, 51456, 50819, 50788, 50722, 50645, 50496, 50377, 49739, 49352, 49204, 48858, 48455, 48294, 47772, 47540, 47198, 47183, 46989, 46837, 45939, 45006, 44885, 44696, 44544, 43707, 43390, 43389, 43348, 42679, 42616, 42588, 42185, 42116, 42095, 41906, 41861, 41828, 41775, 41774, 41374, 41120, 41102, 40638, 40476, 40420, 40124, 39888, 39728, 39698, 39410, 39376, 39318, 39083, 39074, 38936, 38729, 38562, 38465, 38370, 38300, 38189, 38120, 37906, 37678, 37502, 37338, 37330, 37106, 37077, 37028, 36953, 36860, 36808, 36722, 36689, 36599, 36345, 36213, 36152, 35980, 35914, 35791, 35715, 35698, 35611, 35569, 35546, 35503, 35388, 35212, 34870, 34863, 34787, 34617, 34430, 34394, 34296, 34170, 34134, 34062, 34053, 34044, 34026, 33998, 33890, 33798, 33728, 33616, 33556, 33415, 33348, 33308, 33293, 33291, 33092, 33033, 32825, 32609, 32489, 32475, 32444, 31742, 31691, 31671, 31470, 31381, 30884, 30878, 30845, 30752, 30348, 30317, 30298, 30223, 30141, 30058, 30054, 30019, 29972, 29576, 29573, 29187, 29006, 28955, 28862, 28806, 28780, 28716, 28715, 28495, 28459, 28155, 27759, 27351, 27309, 27150, 27025, 26810, 26795, 26789, 26691, 26561, 26511, 26471, 26445, 26436, 26297, 26114, 25971, 25872, 25840, 25827, 25752, 25723, 25311, 25282, 25229, 25191, 25144, 24843, 24826, 24600, 24549, 24197, 24090, 23925, 23862, 23599, 23584, 23341, 23243, 23242, 23186, 23160, 22942, 22581, 22471, 22324, 22279, 22174, 21963, 21584, 21190, 21173, 21078, 21070, 21034, 20967, 20567, 20180, 20001, 19968, 19781, 19640, 19425, 19391, 19248, 19015, 18931, 18507, 16981, 16935, 16791, 16289, 16182, 15460, 15359, 14002]\n",
      "[4166183, 2433456, 2264490, 640380, 316693, 284289, 200672, 170067, 111668, 85299, 55608, 54334, 44327, 41346, 38851, 38441, 33974, 32960, 32879, 31330, 30271, 23605, 22214, 21779, 21305, 20456, 18144, 17372, 16809, 16479, 14752, 14540, 14066, 13766, 13284, 12063, 8979, 8259, 6746, 5805, 5412, 4842, 4775, 4749, 4571, 4303, 4231, 3811, 3690, 3591, 3281, 2873, 2779, 2689, 2661, 2490, 2249, 2201, 2164, 2085, 2013, 1999, 1957, 1921, 1852, 1828, 1552, 1417, 1335, 1227, 1135, 1129, 1121, 1113, 1027, 923, 864, 854, 742, 711, 709, 632, 566, 491, 489, 469, 414, 413, 360, 346, 291, 284, 283, 254, 251, 236, 231, 219, 218, 217, 217, 205, 173, 171, 168, 164, 159, 153, 152, 135, 122, 121, 102, 84, 84, 83, 82, 81, 76, 70, 70, 67, 63, 54, 45, 40, 36, 34, 33, 29, 27, 24, 20, 20, 19, 19, 18, 12, 11, 11, 10, 9, 8, 7, 7, 6, 5, 4, 3, 2, 1, 1]\n",
      "[3451062, 1021036, 578208, 557581, 403977, 367307, 338146, 302334, 278261, 261946, 246303, 232387, 229190, 200035, 181122, 159292, 158976, 148548, 138068, 134585, 126793, 126081, 118097, 114230, 108838, 93371, 92240, 92142, 78878, 78797, 75868, 74533, 71228, 70556, 69136, 60587, 59274, 58765, 58442, 54905, 54518, 52504, 50822, 48685, 44197, 36932, 36832, 35888, 33966, 20305, 13693, 3450, 1880, 1]\n",
      "[11482041, 22757]\n"
     ]
    }
   ],
   "source": [
    "pd.get_dummies(df[\"Vehicle_Damage\"], drop_first=True)\n",
    "pd.get_dummies(df[\"Age\"], drop_first = True)\n",
    "pd.get_dummies(df[\"Vintage\"], drop_first = True)\n",
    "pd.get_dummies(df[\"Policy_Sales_Channel\"], drop_first = True)\n",
    "print(df[\"Vintage\"].value_counts().tolist())\n",
    "print(df[\"Policy_Sales_Channel\"].value_counts().tolist())\n",
    "print(df[\"Region_Code\"].value_counts().tolist())\n",
    "print(df[\"Driving_License\"].value_counts().tolist())\n",
    "#print(df[\"Region_Code\"].value_counts().sort_values().iloc[0])\n"
   ]
  },
  {
   "cell_type": "code",
   "execution_count": 61,
   "id": "b0053030-a5cc-45a2-ab3c-43e895e15a42",
   "metadata": {},
   "outputs": [
    {
     "data": {
      "text/plain": [
       "id                         int64\n",
       "Gender                    object\n",
       "Age                        int64\n",
       "Driving_License            int64\n",
       "Region_Code              float64\n",
       "Previously_Insured         int64\n",
       "Vehicle_Age               object\n",
       "Vehicle_Damage            object\n",
       "Annual_Premium           float64\n",
       "Policy_Sales_Channel     float64\n",
       "Vintage                 category\n",
       "Response                   int64\n",
       "dtype: object"
      ]
     },
     "execution_count": 61,
     "metadata": {},
     "output_type": "execute_result"
    }
   ],
   "source": [
    "df.dtypes"
   ]
  },
  {
   "cell_type": "code",
   "execution_count": 4,
   "id": "e17fbc8e-73cb-45d9-a404-d37fde24c9b9",
   "metadata": {},
   "outputs": [
    {
     "data": {
      "text/plain": [
       "array([35. , 28. , 14. ,  1. , 15. , 47. , 45. ,  8. , 11. ,  3. , 10. ,\n",
       "       12. , 37. , 50. , 30. , 46. , 29. , 16. , 26. , 25. , 41. , 48. ,\n",
       "        7. ,  4. , 24. , 36. , 33. ,  2. ,  9. , 27. , 18. , 43. , 49. ,\n",
       "       17. , 13. , 38. ,  6. , 21. , 23. ,  0. , 19. ,  5. , 39. , 44. ,\n",
       "       20. , 40. , 22. , 32. , 42. , 31. , 34. , 51. , 52. , 39.2])"
      ]
     },
     "execution_count": 4,
     "metadata": {},
     "output_type": "execute_result"
    }
   ],
   "source": [
    "df[\"Region_Code\"].unique()"
   ]
  },
  {
   "cell_type": "code",
   "execution_count": 2,
   "id": "d4e5595c-b603-445a-9519-9767edcd2ede",
   "metadata": {
    "scrolled": true
   },
   "outputs": [
    {
     "name": "stdout",
     "output_type": "stream",
     "text": [
      "Index(['id', 'Gender', 'Age', 'Driving_License', 'Region_Code',\n",
      "       'Previously_Insured', 'Vehicle_Age', 'Vehicle_Damage', 'Annual_Premium',\n",
      "       'Policy_Sales_Channel', 'Vintage', 'Response'],\n",
      "      dtype='object')\n"
     ]
    }
   ],
   "source": [
    "df_mod = df\n",
    "policy_small = df_mod[\"Policy_Sales_Channel\"].value_counts()[df_mod[\"Policy_Sales_Channel\"].value_counts() < 3000].index.tolist()\n",
    "df_mod.loc[df_mod[\"Policy_Sales_Channel\"].isin(policy_small), \"Policy_Sales_Channel\"] = -1\n",
    "#df_mod[\"Policy_Sales_Channel\"] = df_mod[\"Policy_Sales_Channel\"].astype(\"category\")\n",
    "#df_mod = pd.get_dummies(df_mod, columns=[\"Policy_Sales_Channel\"], drop_first = True) # remember that the first dropped category is assumed that the default is whatever is left due to collinearity\n",
    "\n",
    "region_small = df_mod[\"Region_Code\"].value_counts()[df_mod[\"Region_Code\"].value_counts() < 10].index.tolist()\n",
    "#print(df_mod.loc[df_mod[\"Region_Code\"].isin(region_small), \"Region_Code\"])\n",
    "df_mod.loc[df_mod[\"Region_Code\"].isin(region_small), \"Region_Code\"] = 39 #the singular value is 39.2, there is no other region_code with decimals other than this\n",
    "\n",
    "\"\"\"df_mod = pd.concat([df_mod, pd.get_dummies(df_mod[\"Gender\"], drop_first = True)], axis = 1)\n",
    "df_mod = pd.concat([df_mod, pd.get_dummies(df_mod[\"Driving_License\"], drop_first = True)], axis = 1)\n",
    "df_mod = pd.concat([df_mod, pd.get_dummies(df_mod[\"Previously_Insured\"], drop_first = True)], axis = 1)\n",
    "df_mod = pd.concat([df_mod, pd.get_dummies(df_mod[\"Vehicle_Age\"], drop_first = True)], axis = 1)\n",
    "df_mod = pd.concat([df_mod, pd.get_dummies(df_mod[\"Vehicle_Damage\"], drop_first = True)], axis = 1)\n",
    "df_mod = pd.concat([df_mod, pd.get_dummies(df_mod[\"Vintage\"], drop_first = True)], axis = 1)\n",
    "df_mod.drop([\"Gender\", \"Driving_License\", \"Previously_Insured\", \"Vehicle_Age\", \"Vehicle_Damage\", \"Vintage\"], axis=1)\"\"\"\n",
    "\n",
    "\"\"\"df_mod[\"Region_Code\"]\n",
    "df_mod[\"Policy_Sales_Channel\"]\n",
    "df_mod[\"Gender\"] =\"\"\"\n",
    "\n",
    "#print(df_mod[\")\n",
    "#df_mod.head()\n",
    "#df_mod[\"Policy_Sales_Channel_151.0\"]\n",
    "#df_mod[\"Policy_Sales_Channel\"].value_counts()\n",
    "print(df_mod.columns)\n",
    "#df_mod[\"Region_Code\"].unique()\n"
   ]
  },
  {
   "cell_type": "code",
   "execution_count": 10,
   "id": "ca0bdf8c-1379-421f-90b9-9985e14af1e9",
   "metadata": {},
   "outputs": [],
   "source": [
    "X = df_mod.drop([\"Response\", \"id\"], axis = 1)\n",
    "X[\"Region_Code\"] = X[\"Region_Code\"].astype(str)\n",
    "X[\"Policy_Sales_Channel\"] = X[\"Policy_Sales_Channel\"].astype(str)\n",
    "y = df_mod[\"Response\"]\n"
   ]
  },
  {
   "cell_type": "code",
   "execution_count": 11,
   "id": "e7971036-b052-41b4-981c-8db756ab0343",
   "metadata": {},
   "outputs": [],
   "source": [
    "X_train, X_valid, y_train, y_valid = train_test_split(X, y, test_size=0.2, random_state = 42)"
   ]
  },
  {
   "cell_type": "code",
   "execution_count": 16,
   "id": "0f89a251-2d2b-45d7-b359-21dce7346656",
   "metadata": {},
   "outputs": [],
   "source": [
    "cat_feature_indices = [0,2,3,4,5,6,8,9]\n",
    "train_pool = Pool(X_train, y_train, cat_features = cat_feature_indices)\n",
    "valid_pool = Pool(X_valid, y_valid, cat_features = cat_feature_indices)\n"
   ]
  },
  {
   "cell_type": "code",
   "execution_count": 13,
   "id": "1a27fa70-66a7-4baf-8210-d584e46b6c65",
   "metadata": {},
   "outputs": [
    {
     "data": {
      "text/plain": [
       "<catboost.core.CatBoostClassifier at 0x22c1260e250>"
      ]
     },
     "execution_count": 13,
     "metadata": {},
     "output_type": "execute_result"
    }
   ],
   "source": [
    "model = CatBoostClassifier(iterations = 1000, learning_rate = 0.1, depth=6, verbose = False)\n",
    "model.fit(train_pool)\n"
   ]
  },
  {
   "cell_type": "code",
   "execution_count": 18,
   "id": "d18efe09-9b4e-40e2-acdd-a2eddd20eca4",
   "metadata": {},
   "outputs": [],
   "source": [
    "y_pred = model.predict(valid_pool)\n"
   ]
  },
  {
   "cell_type": "code",
   "execution_count": 19,
   "id": "e21965d7-f93b-4d8c-ae00-6e3cddfa5f5f",
   "metadata": {},
   "outputs": [
    {
     "data": {
      "text/plain": [
       "0.11886430011821153"
      ]
     },
     "execution_count": 19,
     "metadata": {},
     "output_type": "execute_result"
    }
   ],
   "source": [
    "mean_squared_error(y_valid, y_pred)"
   ]
  },
  {
   "cell_type": "code",
   "execution_count": 20,
   "id": "a08ea848-28f6-4376-b16f-bcf53674d28c",
   "metadata": {},
   "outputs": [],
   "source": [
    "dftest = pd.read_csv(\"test.csv\")"
   ]
  },
  {
   "cell_type": "code",
   "execution_count": 21,
   "id": "1f830249-223b-4ccf-bf55-54e5c8438763",
   "metadata": {},
   "outputs": [
    {
     "name": "stdout",
     "output_type": "stream",
     "text": [
      "[65224, 64547, 61089, 60643, 57323, 55727, 53600, 53397, 53212, 52948, 51295, 51169, 50615, 49945, 49304, 48633, 48148, 47734, 47312, 46521, 45893, 45711, 45590, 45286, 45219, 45006, 44969, 44822, 43919, 43309, 43075, 42923, 42478, 42415, 41419, 40601, 39063, 38710, 38626, 38336, 37667, 37596, 37323, 37193, 37149, 37062, 36983, 36578, 36346, 35968, 35906, 35768, 35729, 35596, 35425, 35119, 35093, 34887, 34804, 34745, 34451, 34441, 34007, 33906, 33874, 33807, 33785, 33700, 33661, 33087, 32912, 32840, 32604, 32596, 32299, 31959, 31935, 31672, 31563, 31436, 31320, 30599, 30244, 30096, 30090, 29598, 29269, 29125, 28868, 28523, 28466, 28453, 28184, 28163, 28106, 28060, 28013, 27894, 27881, 27666, 27603, 27466, 27448, 27422, 27115, 27111, 27028, 26849, 26778, 26469, 26450, 26340, 26336, 26276, 26147, 26029, 25956, 25810, 25712, 25609, 25599, 25568, 25442, 25442, 25362, 24978, 24923, 24887, 24871, 24794, 24754, 24667, 24654, 24652, 24531, 24526, 24294, 24215, 24151, 24095, 23922, 23881, 23868, 23821, 23783, 23753, 23746, 23714, 23697, 23561, 23401, 23342, 23327, 23296, 23197, 23168, 23029, 22958, 22867, 22855, 22852, 22795, 22736, 22654, 22572, 22563, 22534, 22458, 22326, 22303, 22242, 22185, 22157, 22116, 22064, 22014, 22008, 21941, 21913, 21676, 21658, 21497, 21457, 21222, 21065, 20896, 20797, 20783, 20736, 20552, 20539, 20522, 20369, 20303, 20240, 20207, 20203, 20065, 19943, 19892, 19884, 19803, 19726, 19669, 19420, 19300, 19260, 19247, 19150, 19114, 19031, 19025, 18976, 18537, 18435, 18362, 18330, 18166, 18021, 17989, 17873, 17854, 17835, 17834, 17745, 17663, 17563, 17501, 17500, 17440, 17322, 17171, 17151, 17106, 17085, 17059, 16859, 16852, 16843, 16827, 16710, 16644, 16382, 16378, 16170, 16158, 16002, 15809, 15729, 15637, 15600, 15519, 15400, 15281, 15156, 15136, 15082, 15075, 15067, 14866, 14748, 14709, 14695, 14377, 14273, 14215, 14172, 14106, 14018, 13735, 13618, 13346, 13329, 13298, 13254, 13208, 12923, 12787, 12752, 12726, 12715, 12240, 11371, 11329, 11015, 10898, 10790, 10574, 10458, 9412]\n",
      "[2775802, 1625778, 1507221, 427624, 210531, 190005, 134334, 113246, 74538, 56882, 37254, 36439, 29829, 27626, 25735, 25700, 22336, 21971, 21702, 20689, 19948, 15772, 14841, 14660, 14326, 13625, 12057, 11494, 11107, 10699, 9733, 9568, 9398, 9248, 8913, 8178, 6071, 5568, 4556, 3878, 3632, 3250, 3211, 3198, 3074, 2947, 2761, 2624, 2543, 2371, 2165, 1851, 1800, 1789, 1720, 1560, 1507, 1506, 1442, 1426, 1422, 1363, 1277, 1256, 1232, 1227, 1035, 881, 818, 790, 761, 755, 751, 727, 624, 586, 585, 523, 481, 449, 433, 398, 390, 358, 303, 293, 264, 255, 233, 219, 214, 199, 196, 184, 167, 165, 162, 155, 152, 142, 134, 123, 122, 120, 111, 110, 106, 98, 92, 87, 81, 65, 65, 64, 64, 62, 55, 52, 51, 49, 47, 42, 34, 33, 29, 26, 26, 25, 25, 22, 20, 19, 17, 11, 11, 10, 9, 8, 7, 7, 7, 5, 5, 5, 5, 5, 4, 3, 2, 1, 1]\n",
      "[2299652, 681778, 386147, 372203, 268477, 244864, 224596, 201968, 184821, 174967, 164427, 155735, 152803, 133825, 120975, 105868, 105620, 99023, 91993, 90023, 84503, 83607, 78461, 76381, 72542, 62304, 61745, 61717, 52787, 52315, 50970, 49492, 47810, 46793, 46316, 40562, 39320, 39143, 38648, 36905, 36176, 34954, 34036, 32328, 29253, 24443, 24220, 23831, 22359, 13583, 9042, 2295, 1260]\n",
      "[7654686, 15180]\n"
     ]
    }
   ],
   "source": [
    "print(dftest[\"Vintage\"].value_counts().tolist())\n",
    "print(dftest[\"Policy_Sales_Channel\"].value_counts().tolist())\n",
    "print(dftest[\"Region_Code\"].value_counts().tolist())\n",
    "print(dftest[\"Driving_License\"].value_counts().tolist())"
   ]
  },
  {
   "cell_type": "code",
   "execution_count": 42,
   "id": "1dcd67bf-8871-4b1d-a67f-e6fbf0632801",
   "metadata": {},
   "outputs": [],
   "source": [
    "policy_smallt = dftest[\"Policy_Sales_Channel\"].value_counts()[dftest[\"Policy_Sales_Channel\"].value_counts() < 3000].index.tolist()\n",
    "dftest.loc[dftest[\"Policy_Sales_Channel\"].isin(policy_smallt), \"Policy_Sales_Channel\"] = -1\n"
   ]
  },
  {
   "cell_type": "code",
   "execution_count": 44,
   "id": "473d7310-5641-4784-9646-a69b584231b1",
   "metadata": {},
   "outputs": [],
   "source": [
    "X_test = dftest.drop([\"id\"], axis = 1)\n"
   ]
  },
  {
   "cell_type": "code",
   "execution_count": 52,
   "id": "098354c5-7a17-4241-8f0b-ca9b61f51d1f",
   "metadata": {},
   "outputs": [],
   "source": [
    "X_test[\"Region_Code\"] = X_test[\"Region_Code\"].astype(str)\n",
    "X_test[\"Policy_Sales_Channel\"] = X_test[\"Policy_Sales_Channel\"].astype(str)\n",
    "test_pool = Pool(X_test, cat_features = cat_feature_indices)\n",
    "\n"
   ]
  },
  {
   "cell_type": "code",
   "execution_count": 59,
   "id": "f8e9b18d-2337-43a4-b9c3-fc43cf02725c",
   "metadata": {},
   "outputs": [],
   "source": [
    "y_test = model.predict(test_pool)\n"
   ]
  },
  {
   "cell_type": "code",
   "execution_count": 60,
   "id": "02df072a-7a23-4956-8fb0-570effcd359a",
   "metadata": {},
   "outputs": [],
   "source": []
  },
  {
   "cell_type": "code",
   "execution_count": 65,
   "id": "9b41f071-90a0-45de-919a-11eed34df5a2",
   "metadata": {},
   "outputs": [],
   "source": [
    "dftest[\"Response\"] = pd.DataFrame(y_test)"
   ]
  },
  {
   "cell_type": "code",
   "execution_count": 62,
   "id": "1dc492c7-cb5c-4960-b701-eaff77ae1ff5",
   "metadata": {},
   "outputs": [],
   "source": [
    "results[\"id\"] = range(0, len(results))"
   ]
  },
  {
   "cell_type": "code",
   "execution_count": 66,
   "id": "cc70f1e5-7990-4598-a173-01f2e9a4e5ab",
   "metadata": {},
   "outputs": [],
   "source": [
    "results = results[[\"id\", \"Response\"]]\n",
    "dftest[[\"id\", \"Response\"]].to_csv(\"submission1.csv\", index = False)"
   ]
  },
  {
   "cell_type": "code",
   "execution_count": 67,
   "id": "cf50765f-3040-4d73-b7ef-55120ca7fd57",
   "metadata": {},
   "outputs": [
    {
     "data": {
      "text/plain": [
       "7669866"
      ]
     },
     "execution_count": 67,
     "metadata": {},
     "output_type": "execute_result"
    }
   ],
   "source": [
    "len(dftest)"
   ]
  },
  {
   "cell_type": "code",
   "execution_count": 3,
   "id": "98f3d13b-47dd-4120-85e9-cf8d90146335",
   "metadata": {},
   "outputs": [
    {
     "data": {
      "text/plain": [
       "['Gender',\n",
       " 'Age',\n",
       " 'Driving_License',\n",
       " 'Region_Code',\n",
       " 'Previously_Insured',\n",
       " 'Vehicle_Age',\n",
       " 'Vehicle_Damage',\n",
       " 'Annual_Premium',\n",
       " 'Policy_Sales_Channel',\n",
       " 'Vintage']"
      ]
     },
     "execution_count": 3,
     "metadata": {},
     "output_type": "execute_result"
    }
   ],
   "source": [
    "variables = [variable for variable in df.columns.tolist() if variable not in [\"id\",\"Response\"]]\n",
    "variables"
   ]
  },
  {
   "cell_type": "code",
   "execution_count": 78,
   "id": "9884ca3a-18a0-40c3-8833-7f45e0dfa25d",
   "metadata": {
    "scrolled": true
   },
   "outputs": [
    {
     "data": {
      "text/html": [
       "<div>\n",
       "<style scoped>\n",
       "    .dataframe tbody tr th:only-of-type {\n",
       "        vertical-align: middle;\n",
       "    }\n",
       "\n",
       "    .dataframe tbody tr th {\n",
       "        vertical-align: top;\n",
       "    }\n",
       "\n",
       "    .dataframe thead th {\n",
       "        text-align: right;\n",
       "    }\n",
       "</style>\n",
       "<table border=\"1\" class=\"dataframe\">\n",
       "  <thead>\n",
       "    <tr style=\"text-align: right;\">\n",
       "      <th></th>\n",
       "      <th>Yes</th>\n",
       "    </tr>\n",
       "  </thead>\n",
       "  <tbody>\n",
       "    <tr>\n",
       "      <th>0</th>\n",
       "      <td>True</td>\n",
       "    </tr>\n",
       "    <tr>\n",
       "      <th>1</th>\n",
       "      <td>True</td>\n",
       "    </tr>\n",
       "    <tr>\n",
       "      <th>2</th>\n",
       "      <td>False</td>\n",
       "    </tr>\n",
       "    <tr>\n",
       "      <th>3</th>\n",
       "      <td>True</td>\n",
       "    </tr>\n",
       "    <tr>\n",
       "      <th>4</th>\n",
       "      <td>False</td>\n",
       "    </tr>\n",
       "    <tr>\n",
       "      <th>...</th>\n",
       "      <td>...</td>\n",
       "    </tr>\n",
       "    <tr>\n",
       "      <th>11504793</th>\n",
       "      <td>True</td>\n",
       "    </tr>\n",
       "    <tr>\n",
       "      <th>11504794</th>\n",
       "      <td>True</td>\n",
       "    </tr>\n",
       "    <tr>\n",
       "      <th>11504795</th>\n",
       "      <td>False</td>\n",
       "    </tr>\n",
       "    <tr>\n",
       "      <th>11504796</th>\n",
       "      <td>True</td>\n",
       "    </tr>\n",
       "    <tr>\n",
       "      <th>11504797</th>\n",
       "      <td>False</td>\n",
       "    </tr>\n",
       "  </tbody>\n",
       "</table>\n",
       "<p>11504798 rows × 1 columns</p>\n",
       "</div>"
      ],
      "text/plain": [
       "            Yes\n",
       "0          True\n",
       "1          True\n",
       "2         False\n",
       "3          True\n",
       "4         False\n",
       "...         ...\n",
       "11504793   True\n",
       "11504794   True\n",
       "11504795  False\n",
       "11504796   True\n",
       "11504797  False\n",
       "\n",
       "[11504798 rows x 1 columns]"
      ]
     },
     "execution_count": 78,
     "metadata": {},
     "output_type": "execute_result"
    }
   ],
   "source": []
  },
  {
   "cell_type": "code",
   "execution_count": null,
   "id": "c29ada04-b633-442c-9e8a-9de7d42fad75",
   "metadata": {},
   "outputs": [],
   "source": [
    "X_train, X_valid, y_train, y_valid = train_test_split(X, y, test_size=0.2, random_state = 42)"
   ]
  },
  {
   "cell_type": "code",
   "execution_count": 26,
   "id": "ba99f9a3-01af-464a-a714-e1f2b4b375a0",
   "metadata": {},
   "outputs": [
    {
     "name": "stdout",
     "output_type": "stream",
     "text": [
      "Mean Squared Error: 0.00040320658692128406\n",
      "R² Score: 0.8448773580510154\n"
     ]
    }
   ],
   "source": [
    "model = LinearRegression()\n",
    "model.fit(X_train,y_train)\n",
    "y_pred = model.predict(X_valid)\n",
    "mse1 = mean_squared_error(y_valid, y_pred)\n",
    "r21 = r2_score(y_valid, y_pred)\n",
    "print(f'Mean Squared Error: {mse}')\n",
    "print(f'R² Score: {r2}')"
   ]
  },
  {
   "cell_type": "code",
   "execution_count": 9,
   "id": "5df1065b-81ff-4940-a04c-04286b083c16",
   "metadata": {},
   "outputs": [],
   "source": [
    "y_pred_test = model.predict(pd.read_csv(\"test.csv\"))"
   ]
  },
  {
   "cell_type": "code",
   "execution_count": 10,
   "id": "5c946038-c170-4ebc-8d40-668305896469",
   "metadata": {
    "scrolled": true
   },
   "outputs": [
    {
     "data": {
      "text/html": [
       "<div>\n",
       "<style scoped>\n",
       "    .dataframe tbody tr th:only-of-type {\n",
       "        vertical-align: middle;\n",
       "    }\n",
       "\n",
       "    .dataframe tbody tr th {\n",
       "        vertical-align: top;\n",
       "    }\n",
       "\n",
       "    .dataframe thead th {\n",
       "        text-align: right;\n",
       "    }\n",
       "</style>\n",
       "<table border=\"1\" class=\"dataframe\">\n",
       "  <thead>\n",
       "    <tr style=\"text-align: right;\">\n",
       "      <th></th>\n",
       "      <th>0</th>\n",
       "    </tr>\n",
       "  </thead>\n",
       "  <tbody>\n",
       "    <tr>\n",
       "      <th>0</th>\n",
       "      <td>0.573614</td>\n",
       "    </tr>\n",
       "    <tr>\n",
       "      <th>1</th>\n",
       "      <td>0.455272</td>\n",
       "    </tr>\n",
       "    <tr>\n",
       "      <th>2</th>\n",
       "      <td>0.454753</td>\n",
       "    </tr>\n",
       "    <tr>\n",
       "      <th>3</th>\n",
       "      <td>0.466180</td>\n",
       "    </tr>\n",
       "    <tr>\n",
       "      <th>4</th>\n",
       "      <td>0.466086</td>\n",
       "    </tr>\n",
       "    <tr>\n",
       "      <th>...</th>\n",
       "      <td>...</td>\n",
       "    </tr>\n",
       "    <tr>\n",
       "      <th>745300</th>\n",
       "      <td>0.477203</td>\n",
       "    </tr>\n",
       "    <tr>\n",
       "      <th>745301</th>\n",
       "      <td>0.449383</td>\n",
       "    </tr>\n",
       "    <tr>\n",
       "      <th>745302</th>\n",
       "      <td>0.624315</td>\n",
       "    </tr>\n",
       "    <tr>\n",
       "      <th>745303</th>\n",
       "      <td>0.550936</td>\n",
       "    </tr>\n",
       "    <tr>\n",
       "      <th>745304</th>\n",
       "      <td>0.511524</td>\n",
       "    </tr>\n",
       "  </tbody>\n",
       "</table>\n",
       "<p>745305 rows × 1 columns</p>\n",
       "</div>"
      ],
      "text/plain": [
       "               0\n",
       "0       0.573614\n",
       "1       0.455272\n",
       "2       0.454753\n",
       "3       0.466180\n",
       "4       0.466086\n",
       "...          ...\n",
       "745300  0.477203\n",
       "745301  0.449383\n",
       "745302  0.624315\n",
       "745303  0.550936\n",
       "745304  0.511524\n",
       "\n",
       "[745305 rows x 1 columns]"
      ]
     },
     "execution_count": 10,
     "metadata": {},
     "output_type": "execute_result"
    }
   ],
   "source": [
    "pd.DataFrame(y_pred_test)"
   ]
  },
  {
   "cell_type": "code",
   "execution_count": 73,
   "id": "1dee6811-0371-480a-a668-36a5925f1d64",
   "metadata": {},
   "outputs": [],
   "source": [
    "submit = pd.read_csv(\"test.csv\")\n",
    "#submit.assign(pd.DataFrame(y_pred_test))"
   ]
  },
  {
   "cell_type": "code",
   "execution_count": 74,
   "id": "9054c516-e0fe-4b69-92f8-42936eaa70b5",
   "metadata": {},
   "outputs": [],
   "source": [
    "submit[\"FloodProbability\"] = pd.DataFrame(y_pred_test)"
   ]
  },
  {
   "cell_type": "code",
   "execution_count": 78,
   "id": "dfe3bf64-5d65-4212-8457-e7511e7d3e6e",
   "metadata": {},
   "outputs": [],
   "source": [
    "submit[[\"id\", \"FloodProbability\"]].to_csv(\"submission1.csv\", index = False)"
   ]
  },
  {
   "cell_type": "code",
   "execution_count": 4,
   "id": "33c21388-2256-4f65-88a4-f6ecb05a0c34",
   "metadata": {},
   "outputs": [],
   "source": [
    "from pygam import LinearGAM, s, te, l\n"
   ]
  },
  {
   "cell_type": "code",
   "execution_count": 47,
   "id": "633e4f8b-5770-4820-af5a-d1367d426b8e",
   "metadata": {},
   "outputs": [],
   "source": [
    "gam = LinearGAM(s(1, n_splines=17) + s(2, n_splines=19) + s(3, n_splines=17) + s(4, n_splines=18) + s(5, n_splines=18) + \n",
    "                s(6, n_splines=18) + s(7, n_splines=17) + s(8, n_splines=17) + s(9, n_splines=17) + s(10, n_splines=19) + \n",
    "                s(11, n_splines=17) + s(12, n_splines=18) + s(13, n_splines=18) + s(14, n_splines=17) + s(15, n_splines=17) + \n",
    "                s(16, n_splines=18) + s(17, n_splines=19) + s(18, n_splines=20) + s(19, n_splines=17) + s(20, n_splines=17)).fit(X_train,y_train)"
   ]
  },
  {
   "cell_type": "code",
   "execution_count": 57,
   "id": "da961a6d-df89-447c-9ab0-494cd6bf907d",
   "metadata": {},
   "outputs": [
    {
     "name": "stdout",
     "output_type": "stream",
     "text": [
      "Mean Squared Error: 0.00040161385918230206\n",
      "R² Score: 0.8454900946159\n"
     ]
    }
   ],
   "source": [
    "y_pred = gam.predict(X_valid)\n",
    "mse = mean_squared_error(y_valid, y_pred) \n",
    "r2 = r2_score(y_valid, y_pred)\n",
    "print(f'Mean Squared Error: {mse}')\n",
    "print(f'R² Score: {r2}')"
   ]
  },
  {
   "cell_type": "code",
   "execution_count": 51,
   "id": "6951d99f-48e5-442d-872b-4326e7bd8a53",
   "metadata": {},
   "outputs": [
    {
     "data": {
      "text/plain": [
       "0.8454900946159"
      ]
     },
     "execution_count": 51,
     "metadata": {},
     "output_type": "execute_result"
    }
   ],
   "source": [
    "r2"
   ]
  },
  {
   "cell_type": "code",
   "execution_count": 44,
   "id": "a83b5714-266a-4a50-a407-8908207aa9b5",
   "metadata": {
    "scrolled": true
   },
   "outputs": [
    {
     "data": {
      "image/png": "[encoded data removed]",
      "text/plain": [
       "<Figure size 640x480 with 1 Axes>"
      ]
     },
     "metadata": {},
     "output_type": "display_data"
    }
   ],
   "source": [
    "simpGam = LinearGAM(s(1, 16)).fit(X_train,y_train)\n",
    "plt.scatter(X_train[\"MonsoonIntensity\"], y_train)\n",
    "#plt.xlabel(i)\n",
    "\n",
    "plt.plot(Xgrid, simpGam.predict(Xgrid), color =\"red\")\n",
    "plt.show()"
   ]
  },
  {
   "cell_type": "code",
   "execution_count": 45,
   "id": "64fc1450-70e9-4efa-9c07-b359e3ca7abe",
   "metadata": {
    "scrolled": true
   },
   "outputs": [
    {
     "name": "stdout",
     "output_type": "stream",
     "text": [
      "17\n",
      "19\n",
      "17\n",
      "18\n",
      "18\n",
      "18\n",
      "17\n",
      "17\n",
      "17\n",
      "19\n",
      "17\n",
      "18\n",
      "18\n",
      "17\n",
      "17\n",
      "18\n",
      "19\n",
      "20\n",
      "17\n",
      "17\n"
     ]
    }
   ],
   "source": [
    "variables = [variable for variable in df.columns.tolist() if variable not in [\"id\",\"FloodProbability\"]]\n",
    "\n",
    "for i in variables:\n",
    "    print(df[i].nunique())"
   ]
  },
  {
   "cell_type": "code",
   "execution_count": 55,
   "id": "10649a70-29e5-4a51-b30d-659aed874eba",
   "metadata": {},
   "outputs": [],
   "source": [
    "y_pred_test = gam.predict(pd.read_csv(\"test.csv\"))\n",
    "submit = pd.read_csv(\"test.csv\")\n",
    "submit[\"FloodProbability\"] = pd.DataFrame(y_pred_test)\n",
    "submit[[\"id\", \"FloodProbability\"]].to_csv(\"submission1.csv\", index = False)"
   ]
  },
  {
   "cell_type": "code",
   "execution_count": 63,
   "id": "3074d4df-692a-4982-9878-6fe476d717cc",
   "metadata": {},
   "outputs": [],
   "source": [
    "y_train_pred = gam.predict(X_train)\n",
    "residuals = y_train - y_train_pred\n"
   ]
  },
  {
   "cell_type": "code",
   "execution_count": 64,
   "id": "e5f33961-2ad4-474e-99ea-7888dbfe2fcc",
   "metadata": {
    "scrolled": true
   },
   "outputs": [
    {
     "data": {
      "image/png": "[encoded data removed]",
      "text/plain": [
       "<Figure size 1000x600 with 1 Axes>"
      ]
     },
     "metadata": {},
     "output_type": "display_data"
    }
   ],
   "source": [
    "plt.figure(figsize=(10, 6))\n",
    "plt.scatter(y_train_pred, residuals, facecolor='blue')\n",
    "plt.axhline(y=0, color='red', linestyle='--', linewidth=2)\n",
    "plt.xlabel('Fitted Values')\n",
    "plt.ylabel('Residuals')\n",
    "plt.title('Fitted Values vs Residuals')\n",
    "plt.show()"
   ]
  },
  {
   "cell_type": "code",
   "execution_count": 72,
   "id": "5d858805-9c5b-4190-b47a-32d16c8a97f0",
   "metadata": {},
   "outputs": [
    {
     "data": {
      "text/plain": [
       "True"
      ]
     },
     "execution_count": 72,
     "metadata": {},
     "output_type": "execute_result"
    }
   ],
   "source": [
    "threshold = 3 *np.std(residuals)\n",
    "outliers_train = np.abs(residuals) > threshold\n",
    "outliers_train.any()"
   ]
  },
  {
   "cell_type": "code",
   "execution_count": 73,
   "id": "36e85d85-1348-4304-838c-c7e5471ccd68",
   "metadata": {},
   "outputs": [],
   "source": [
    "X_train_remove = X_train[~outliers_train]\n",
    "y_train_remove = y_train[~outliers_train]\n"
   ]
  },
  {
   "cell_type": "code",
   "execution_count": 5,
   "id": "babc5c2f-4207-4ef9-963c-76253c62ac52",
   "metadata": {},
   "outputs": [],
   "source": [
    "gam = LinearGAM(s(1, n_splines=17) + s(2, n_splines=19) + s(3, n_splines=17) + s(4, n_splines=18) + s(5, n_splines=18) + \n",
    "                s(6, n_splines=18) + s(7, n_splines=17) + s(8, n_splines=17) + s(9, n_splines=17) + s(10, n_splines=19) + \n",
    "                s(11, n_splines=17) + s(12, n_splines=18) + s(13, n_splines=18) + s(14, n_splines=17) + s(15, n_splines=17) + \n",
    "                s(16, n_splines=18) + s(17, n_splines=19) + s(18, n_splines=20) + s(19, n_splines=17) + s(20, n_splines=17)).fit(X,y)"
   ]
  },
  {
   "cell_type": "code",
   "execution_count": 75,
   "id": "d706785c-7d67-4a62-b16a-ce5f7efecc5e",
   "metadata": {},
   "outputs": [
    {
     "name": "stdout",
     "output_type": "stream",
     "text": [
      "Mean Squared Error: 0.00040215262162022553\n",
      "R² Score: 0.8452828205604739\n"
     ]
    }
   ],
   "source": [
    "y_pred = gam.predict(X_valid)\n",
    "mse = mean_squared_error(y_valid, y_pred) \n",
    "r2 = r2_score(y_valid, y_pred)\n",
    "print(f'Mean Squared Error: {mse}')\n",
    "print(f'R² Score: {r2}')"
   ]
  },
  {
   "cell_type": "code",
   "execution_count": 6,
   "id": "7a5b2e4a-9dbd-4c90-ab68-33c3d275a887",
   "metadata": {},
   "outputs": [],
   "source": [
    "y_pred_test = gam.predict(pd.read_csv(\"test.csv\"))\n",
    "submit = pd.read_csv(\"test.csv\")\n",
    "submit[\"FloodProbability\"] = pd.DataFrame(y_pred_test)\n",
    "submit[[\"id\", \"FloodProbability\"]].to_csv(\"submission1.csv\", index = False)"
   ]
  },
  {
   "cell_type": "code",
   "execution_count": null,
   "id": "4832f8f9-c702-4d6f-b571-653d6a40edbb",
   "metadata": {},
   "outputs": [],
   "source": []
  }
 ],
 "metadata": {
  "kernelspec": {
   "display_name": "Python 3 (ipykernel)",
   "language": "python",
   "name": "python3"
  },
  "language_info": {
   "codemirror_mode": {
    "name": "ipython",
    "version": 3
   },
   "file_extension": ".py",
   "mimetype": "text/x-python",
   "name": "python",
   "nbconvert_exporter": "python",
   "pygments_lexer": "ipython3",
   "version": "3.11.9"
  }
 },
 "nbformat": 4,
 "nbformat_minor": 5
}
